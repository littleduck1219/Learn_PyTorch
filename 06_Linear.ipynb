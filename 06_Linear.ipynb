{
 "cells": [
  {
   "cell_type": "code",
   "execution_count": 5,
   "id": "16abcec5",
   "metadata": {},
   "outputs": [],
   "source": [
    "import torch\n",
    "import torch.nn as nn"
   ]
  },
  {
   "cell_type": "code",
   "execution_count": 48,
   "id": "184d5036",
   "metadata": {},
   "outputs": [],
   "source": [
    "class NeuralNetwork(nn.Module):\n",
    "    def __init__(self):\n",
    "        super().__init__()\n",
    "        self.w = torch.FloatTensor(5, 4)\n",
    "        self.b = torch.FloatTensor(4)\n",
    "        \n",
    "    def forward(self, x):\n",
    "        y = torch.matmul(x, self.w) + self.b\n",
    "        return y"
   ]
  },
  {
   "cell_type": "code",
   "execution_count": 49,
   "id": "73a368a7",
   "metadata": {},
   "outputs": [],
   "source": [
    "x = torch.FloatTensor(5)\n",
    "linear = NeuralNetwork()\n",
    "y = linear(x)"
   ]
  },
  {
   "cell_type": "code",
   "execution_count": 50,
   "id": "4f871100",
   "metadata": {},
   "outputs": [
    {
     "name": "stdout",
     "output_type": "stream",
     "text": [
      "tensor([0., 0., 0., 0.]) torch.Size([4])\n"
     ]
    }
   ],
   "source": [
    "print(y, y.shape)"
   ]
  },
  {
   "cell_type": "code",
   "execution_count": 34,
   "id": "1e3f22bd",
   "metadata": {},
   "outputs": [],
   "source": [
    "class NeuralNetwork(nn.Module):\n",
    "    def __init__(self, input_dim, output_dim):\n",
    "        super().__init__()\n",
    "        self.w = nn.Parameter(torch.FloatTensor(input_dim, output_dim))\n",
    "        self.b = nn.Parameter(torch.FloatTensor(output_dim))\n",
    "        \n",
    "    def forward(self, x):\n",
    "        y = torch.matmul(x, self.w) + self.b\n",
    "        return y"
   ]
  },
  {
   "cell_type": "code",
   "execution_count": 35,
   "id": "e75cfb67",
   "metadata": {},
   "outputs": [
    {
     "name": "stdout",
     "output_type": "stream",
     "text": [
      "tensor([0., 0., 0.], grad_fn=<AddBackward0>) torch.Size([3])\n",
      "Parameter containing:\n",
      "tensor([[0., 0., 0.],\n",
      "        [0., 0., 0.],\n",
      "        [0., 0., 0.],\n",
      "        [0., 0., 0.]], requires_grad=True)\n",
      "Parameter containing:\n",
      "tensor([0., 0., 0.], requires_grad=True)\n"
     ]
    }
   ],
   "source": [
    "x = torch.FloatTensor(4)\n",
    "linear = NeuralNetwork(4, 3)\n",
    "y = linear(x)\n",
    "print(y, y.shape)\n",
    "for param in linear.parameters():\n",
    "    print(param)"
   ]
  },
  {
   "cell_type": "code",
   "execution_count": 36,
   "id": "d3d4b477",
   "metadata": {},
   "outputs": [
    {
     "name": "stdout",
     "output_type": "stream",
     "text": [
      "tensor([-0.3226,  0.2762, -0.2769], grad_fn=<AddBackward0>) torch.Size([3])\n",
      "Parameter containing:\n",
      "tensor([[ 0.2820,  0.3209, -0.0670,  0.3630],\n",
      "        [ 0.0289, -0.3504,  0.0065, -0.2226],\n",
      "        [-0.4002,  0.4889,  0.4082, -0.4126]], requires_grad=True)\n",
      "Parameter containing:\n",
      "tensor([-0.3226,  0.2762, -0.2769], requires_grad=True)\n"
     ]
    }
   ],
   "source": [
    "linear = nn.Linear(4,3)\n",
    "y = linear(x)\n",
    "print(y, y.shape)\n",
    "\n",
    "for param in linear.parameters():\n",
    "    print(param)"
   ]
  },
  {
   "cell_type": "code",
   "execution_count": null,
   "id": "17c4e6ad",
   "metadata": {},
   "outputs": [],
   "source": [
    "class Neural"
   ]
  }
 ],
 "metadata": {
  "kernelspec": {
   "display_name": "Python 3 (ipykernel)",
   "language": "python",
   "name": "python3"
  },
  "language_info": {
   "codemirror_mode": {
    "name": "ipython",
    "version": 3
   },
   "file_extension": ".py",
   "mimetype": "text/x-python",
   "name": "python",
   "nbconvert_exporter": "python",
   "pygments_lexer": "ipython3",
   "version": "3.9.13"
  }
 },
 "nbformat": 4,
 "nbformat_minor": 5
}
